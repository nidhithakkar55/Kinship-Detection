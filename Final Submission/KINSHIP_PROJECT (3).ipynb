{
  "nbformat": 4,
  "nbformat_minor": 0,
  "metadata": {
    "colab": {
      "name": "KINSHIP PROJECT.ipynb",
      "provenance": [],
      "collapsed_sections": []
    },
    "kernelspec": {
      "name": "python3",
      "display_name": "Python 3"
    },
    "accelerator": "GPU"
  },
  "cells": [
    {
      "cell_type": "code",
      "metadata": {
        "id": "uTeF8Ubw5ghg",
        "colab_type": "code",
        "outputId": "46635cb3-c17e-4480-a52f-f515903dd185",
        "colab": {
          "base_uri": "https://localhost:8080/",
          "height": 389
        }
      },
      "source": [
        "!pip install git+https://github.com/rcmalli/keras-vggface.git"
      ],
      "execution_count": 0,
      "outputs": [
        {
          "output_type": "stream",
          "text": [
            "Collecting git+https://github.com/rcmalli/keras-vggface.git\n",
            "  Cloning https://github.com/rcmalli/keras-vggface.git to /tmp/pip-req-build-l42o5h2c\n",
            "  Running command git clone -q https://github.com/rcmalli/keras-vggface.git /tmp/pip-req-build-l42o5h2c\n",
            "Requirement already satisfied: numpy>=1.9.1 in /usr/local/lib/python3.6/dist-packages (from keras-vggface==0.6) (1.16.5)\n",
            "Requirement already satisfied: scipy>=0.14 in /usr/local/lib/python3.6/dist-packages (from keras-vggface==0.6) (1.3.1)\n",
            "Requirement already satisfied: h5py in /usr/local/lib/python3.6/dist-packages (from keras-vggface==0.6) (2.8.0)\n",
            "Requirement already satisfied: pillow in /usr/local/lib/python3.6/dist-packages (from keras-vggface==0.6) (4.3.0)\n",
            "Requirement already satisfied: keras in /usr/local/lib/python3.6/dist-packages (from keras-vggface==0.6) (2.2.5)\n",
            "Requirement already satisfied: six>=1.9.0 in /usr/local/lib/python3.6/dist-packages (from keras-vggface==0.6) (1.12.0)\n",
            "Requirement already satisfied: pyyaml in /usr/local/lib/python3.6/dist-packages (from keras-vggface==0.6) (3.13)\n",
            "Requirement already satisfied: olefile in /usr/local/lib/python3.6/dist-packages (from pillow->keras-vggface==0.6) (0.46)\n",
            "Requirement already satisfied: keras-applications>=1.0.8 in /usr/local/lib/python3.6/dist-packages (from keras->keras-vggface==0.6) (1.0.8)\n",
            "Requirement already satisfied: keras-preprocessing>=1.1.0 in /usr/local/lib/python3.6/dist-packages (from keras->keras-vggface==0.6) (1.1.0)\n",
            "Building wheels for collected packages: keras-vggface\n",
            "  Building wheel for keras-vggface (setup.py) ... \u001b[?25l\u001b[?25hdone\n",
            "  Created wheel for keras-vggface: filename=keras_vggface-0.6-cp36-none-any.whl size=8311 sha256=8a8466702c4b4a490d627d1bdf66bf6af636a92f66cf699b3bf8c397006b055f\n",
            "  Stored in directory: /tmp/pip-ephem-wheel-cache-y2_6771h/wheels/36/07/46/06c25ce8e9cd396dabe151ea1d8a2bc28dafcb11321c1f3a6d\n",
            "Successfully built keras-vggface\n",
            "Installing collected packages: keras-vggface\n",
            "Successfully installed keras-vggface-0.6\n"
          ],
          "name": "stdout"
        }
      ]
    },
    {
      "cell_type": "code",
      "metadata": {
        "id": "EsK81fzp52h-",
        "colab_type": "code",
        "outputId": "f530aff3-5779-4a6e-bb10-175fc75bfd03",
        "colab": {
          "resources": {
            "http://localhost:8080/nbextensions/google.colab/files.js": {
              "data": "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",
              "ok": true,
              "headers": [
                [
                  "content-type",
                  "application/javascript"
                ]
              ],
              "status": 200,
              "status_text": ""
            }
          },
          "base_uri": "https://localhost:8080/",
          "height": 93
        }
      },
      "source": [
        "from google.colab import files\n",
        "files.upload()"
      ],
      "execution_count": 0,
      "outputs": [
        {
          "output_type": "display_data",
          "data": {
            "text/html": [
              "\n",
              "     <input type=\"file\" id=\"files-b3a30ce0-50f8-4b7b-9928-5b575073e318\" name=\"files[]\" multiple disabled />\n",
              "     <output id=\"result-b3a30ce0-50f8-4b7b-9928-5b575073e318\">\n",
              "      Upload widget is only available when the cell has been executed in the\n",
              "      current browser session. Please rerun this cell to enable.\n",
              "      </output>\n",
              "      <script src=\"/nbextensions/google.colab/files.js\"></script> "
            ],
            "text/plain": [
              "<IPython.core.display.HTML object>"
            ]
          },
          "metadata": {
            "tags": []
          }
        },
        {
          "output_type": "stream",
          "text": [
            "Saving kaggle.json to kaggle.json\n"
          ],
          "name": "stdout"
        },
        {
          "output_type": "execute_result",
          "data": {
            "text/plain": [
              "{'kaggle.json': b'{\"username\":\"nidhithakkar55\",\"key\":\"27d0d1df74aefbbf81cc807e927b3001\"}'}"
            ]
          },
          "metadata": {
            "tags": []
          },
          "execution_count": 4
        }
      ]
    },
    {
      "cell_type": "code",
      "metadata": {
        "id": "bRe6AGBU7elv",
        "colab_type": "code",
        "colab": {}
      },
      "source": [
        "!pip install -q kaggle"
      ],
      "execution_count": 0,
      "outputs": []
    },
    {
      "cell_type": "code",
      "metadata": {
        "id": "LUSVxM915q7p",
        "colab_type": "code",
        "outputId": "8bebcffc-5ad9-483c-e748-7ac6c5e46d5b",
        "colab": {
          "base_uri": "https://localhost:8080/",
          "height": 298
        }
      },
      "source": [
        "!mkdir /root/.kaggle\n",
        "!mv kaggle.json /root/.kaggle/\n",
        "!kaggle competitions download -c recognizing-faces-in-the-wild\n",
        "!mkdir train test\n",
        "!unzip -q train.zip -d train\n",
        "!unzip -q test.zip -d test\n",
        "!rm train.zip test.zip"
      ],
      "execution_count": 0,
      "outputs": [
        {
          "output_type": "stream",
          "text": [
            "mkdir: cannot create directory ‘/root/.kaggle’: File exists\n",
            "Warning: Your Kaggle API key is readable by other users on this system! To fix this, you can run 'chmod 600 /root/.kaggle/kaggle.json'\n",
            "Downloading train_relationships.csv to /content\n",
            "  0% 0.00/77.6k [00:00<?, ?B/s]\n",
            "100% 77.6k/77.6k [00:00<00:00, 31.5MB/s]\n",
            "Downloading test.zip to /content\n",
            " 59% 20.0M/34.1M [00:00<00:00, 49.1MB/s]\n",
            "100% 34.1M/34.1M [00:00<00:00, 114MB/s] \n",
            "Downloading train.zip to /content\n",
            " 95% 65.0M/68.6M [00:00<00:00, 85.1MB/s]\n",
            "100% 68.6M/68.6M [00:00<00:00, 127MB/s] \n",
            "Downloading sample_submission.csv to /content\n",
            "  0% 0.00/156k [00:00<?, ?B/s]\n",
            "100% 156k/156k [00:00<00:00, 147MB/s]\n",
            "mkdir: cannot create directory ‘train’: File exists\n",
            "mkdir: cannot create directory ‘test’: File exists\n"
          ],
          "name": "stdout"
        }
      ]
    },
    {
      "cell_type": "code",
      "metadata": {
        "id": "E76_nDxz513X",
        "colab_type": "code",
        "colab": {}
      },
      "source": [
        "import gc\n",
        "import cv2\n",
        "import glob\n",
        "import numpy as np\n",
        "from keras_vggface.utils import preprocess_input\n",
        "\n",
        "def read_img(path):\n",
        "  img = cv2.imread(path)\n",
        "  img = np.array(img).astype(np.float)\n",
        "  return preprocess_input(img,version=2)"
      ],
      "execution_count": 0,
      "outputs": []
    },
    {
      "cell_type": "code",
      "metadata": {
        "id": "eyq2l5Op78hO",
        "colab_type": "code",
        "outputId": "636e20b6-1c94-4029-feb5-865e46dc4744",
        "colab": {
          "base_uri": "https://localhost:8080/",
          "height": 34
        }
      },
      "source": [
        "from collections import defaultdict\n",
        "allPhotos = defaultdict(list)\n",
        "for family in glob.glob(\"train/*\"):\n",
        "  for mem in glob.glob(family+'/*'):\n",
        "    for photo in glob.glob(mem+'/*'):\n",
        "      allPhotos[mem].append(photo)\n",
        "ppl = list(allPhotos.keys())\n",
        "len(ppl)"
      ],
      "execution_count": 0,
      "outputs": [
        {
          "output_type": "execute_result",
          "data": {
            "text/plain": [
              "2316"
            ]
          },
          "metadata": {
            "tags": []
          },
          "execution_count": 22
        }
      ]
    },
    {
      "cell_type": "code",
      "metadata": {
        "id": "M4ZSZMIt8FEG",
        "colab_type": "code",
        "outputId": "143d0c54-715a-4548-ab0d-443cf1545d91",
        "colab": {
          "base_uri": "https://localhost:8080/",
          "height": 213
        }
      },
      "source": [
        "import pandas as pd\n",
        "import numpy as np\n",
        "data = pd.read_csv('train_relationships.csv')\n",
        "data.p1 = data.p1.apply( lambda x: 'train/'+x )\n",
        "data.p2 = data.p2.apply( lambda x: 'train/'+x )\n",
        "print(data.shape)\n",
        "data.head()"
      ],
      "execution_count": 0,
      "outputs": [
        {
          "output_type": "stream",
          "text": [
            "(3598, 2)\n"
          ],
          "name": "stdout"
        },
        {
          "output_type": "execute_result",
          "data": {
            "text/html": [
              "<div>\n",
              "<style scoped>\n",
              "    .dataframe tbody tr th:only-of-type {\n",
              "        vertical-align: middle;\n",
              "    }\n",
              "\n",
              "    .dataframe tbody tr th {\n",
              "        vertical-align: top;\n",
              "    }\n",
              "\n",
              "    .dataframe thead th {\n",
              "        text-align: right;\n",
              "    }\n",
              "</style>\n",
              "<table border=\"1\" class=\"dataframe\">\n",
              "  <thead>\n",
              "    <tr style=\"text-align: right;\">\n",
              "      <th></th>\n",
              "      <th>p1</th>\n",
              "      <th>p2</th>\n",
              "    </tr>\n",
              "  </thead>\n",
              "  <tbody>\n",
              "    <tr>\n",
              "      <th>0</th>\n",
              "      <td>train/F0002/MID1</td>\n",
              "      <td>train/F0002/MID3</td>\n",
              "    </tr>\n",
              "    <tr>\n",
              "      <th>1</th>\n",
              "      <td>train/F0002/MID2</td>\n",
              "      <td>train/F0002/MID3</td>\n",
              "    </tr>\n",
              "    <tr>\n",
              "      <th>2</th>\n",
              "      <td>train/F0005/MID1</td>\n",
              "      <td>train/F0005/MID2</td>\n",
              "    </tr>\n",
              "    <tr>\n",
              "      <th>3</th>\n",
              "      <td>train/F0005/MID3</td>\n",
              "      <td>train/F0005/MID2</td>\n",
              "    </tr>\n",
              "    <tr>\n",
              "      <th>4</th>\n",
              "      <td>train/F0009/MID1</td>\n",
              "      <td>train/F0009/MID4</td>\n",
              "    </tr>\n",
              "  </tbody>\n",
              "</table>\n",
              "</div>"
            ],
            "text/plain": [
              "                 p1                p2\n",
              "0  train/F0002/MID1  train/F0002/MID3\n",
              "1  train/F0002/MID2  train/F0002/MID3\n",
              "2  train/F0005/MID1  train/F0005/MID2\n",
              "3  train/F0005/MID3  train/F0005/MID2\n",
              "4  train/F0009/MID1  train/F0009/MID4"
            ]
          },
          "metadata": {
            "tags": []
          },
          "execution_count": 23
        }
      ]
    },
    {
      "cell_type": "code",
      "metadata": {
        "id": "oAtdD0vK8Hwl",
        "colab_type": "code",
        "outputId": "db0fbc8c-ac08-4d37-9326-d066166cbf87",
        "colab": {
          "base_uri": "https://localhost:8080/",
          "height": 34
        }
      },
      "source": [
        "data = data[ ( (data.p1.isin(ppl)) & (data.p2.isin(ppl)) ) ]\n",
        "data = [ ( x[0], x[1]  ) for x in data.values ]\n",
        "len(data)"
      ],
      "execution_count": 0,
      "outputs": [
        {
          "output_type": "execute_result",
          "data": {
            "text/plain": [
              "3362"
            ]
          },
          "metadata": {
            "tags": []
          },
          "execution_count": 24
        }
      ]
    },
    {
      "cell_type": "code",
      "metadata": {
        "id": "U2HPEvwy8Hsh",
        "colab_type": "code",
        "outputId": "815d31ec-4421-42e9-c10a-ee9eae8317c6",
        "colab": {
          "base_uri": "https://localhost:8080/",
          "height": 269
        }
      },
      "source": [
        "%matplotlib inline\n",
        "import matplotlib.pyplot as plt\n",
        "from random import choice, sample\n",
        "\n",
        "f, ax = plt.subplots(2, 2, figsize=(4, 4))\n",
        "batch = sample(data,2)\n",
        "for i,j in [(0,0),(0,1),(1,0),(1,1)]:\n",
        "  ax[i][j].imshow( cv2.imread( choice(allPhotos[batch[i][j]]) ) )"
      ],
      "execution_count": 0,
      "outputs": [
        {
          "output_type": "display_data",
          "data": {
            "image/png": "[encoded data removed]",
            "text/plain": [
              "<Figure size 288x288 with 4 Axes>"
            ]
          },
          "metadata": {
            "tags": []
          }
        }
      ]
    },
    {
      "cell_type": "code",
      "metadata": {
        "id": "pd-_kWwW8HpK",
        "colab_type": "code",
        "outputId": "bd6aa276-0745-47b6-f52f-7a81bbc18769",
        "colab": {
          "base_uri": "https://localhost:8080/",
          "height": 34
        }
      },
      "source": [
        "train = [ x for x in data if 'F09' not in x[0]  ]\n",
        "val = [ x for x in data if 'F09' in x[0]  ]\n",
        "len(train), len(val)"
      ],
      "execution_count": 0,
      "outputs": [
        {
          "output_type": "execute_result",
          "data": {
            "text/plain": [
              "(3066, 296)"
            ]
          },
          "metadata": {
            "tags": []
          },
          "execution_count": 26
        }
      ]
    },
    {
      "cell_type": "code",
      "metadata": {
        "id": "itb-0Pc58Hmr",
        "colab_type": "code",
        "colab": {}
      },
      "source": [
        "del data; gc.collect();"
      ],
      "execution_count": 0,
      "outputs": []
    },
    {
      "cell_type": "code",
      "metadata": {
        "id": "I0XJ2FFs8HcR",
        "colab_type": "code",
        "colab": {}
      },
      "source": [
        "def getImages(p1,p2):\n",
        "    p1 = read_img(choice(allPhotos[p1]))\n",
        "    p2 = read_img(choice(allPhotos[p2]))\n",
        "    return p1,p2\n",
        "\n",
        "def getMiniBatch(batch_size=16, data=train):\n",
        "  p1 = []; p2 = []; Y = []\n",
        "  batch = sample(data, batch_size//2)\n",
        "  for x in batch:\n",
        "    _p1, _p2 = getImages(*x)\n",
        "    p1.append(_p1);p2.append(_p2);Y.append(1)\n",
        "  while len(Y) < batch_size:\n",
        "    _p1,_p2 = tuple(np.random.choice(ppl,size=2, replace=False))\n",
        "    if (_p1,_p2) not in train+val and (_p2,_p1) not in train+val:\n",
        "      _p1,_p2 = getImages(_p1,_p2)\n",
        "      p1.append(_p1);p2.append(_p2);Y.append(0) \n",
        "  return [np.array(p1),np.array(p2)], np.array(Y)"
      ],
      "execution_count": 0,
      "outputs": []
    },
    {
      "cell_type": "code",
      "metadata": {
        "id": "zp7v5TfZ8rZi",
        "colab_type": "code",
        "colab": {}
      },
      "source": [
        "from keras_vggface.vggface import VGGFace\n",
        "\n",
        "IMG_DIM = (224,224,3)\n",
        "\n",
        "vggface = VGGFace(model='resnet50', include_top=False)\n",
        "\n",
        "for layer in vggface.layers[:-3]:\n",
        "  layer.trainable=True"
      ],
      "execution_count": 0,
      "outputs": []
    },
    {
      "cell_type": "code",
      "metadata": {
        "id": "62fxnUmd8tfn",
        "colab_type": "code",
        "colab": {}
      },
      "source": [
        "def initialize_bias(shape, name=None):\n",
        "    \"\"\"\n",
        "        The paper, http://www.cs.utoronto.ca/~gkoch/files/msc-thesis.pdf\n",
        "        suggests to initialize CNN layer bias with mean as 0.5 and standard deviation of 0.01\n",
        "    \"\"\"\n",
        "    return np.random.normal(loc = 0.5, scale = 1e-2, size = shape)\n",
        "  \n",
        "def initialize_weights(shape, name=None):\n",
        "    \"\"\"\n",
        "        The paper, http://www.cs.utoronto.ca/~gkoch/files/msc-thesis.pdf\n",
        "        suggests to initialize CNN layer weights with mean as 0.0 and standard deviation of 0.01\n",
        "    \"\"\"\n",
        "    return np.random.normal(loc = 0.0, scale = 1e-2, size = shape)"
      ],
      "execution_count": 0,
      "outputs": []
    },
    {
      "cell_type": "code",
      "metadata": {
        "id": "8_eAw1aQ8x6c",
        "colab_type": "code",
        "outputId": "82e7dd72-b2ba-416e-a432-c49d33362bed",
        "colab": {
          "base_uri": "https://localhost:8080/",
          "height": 354
        }
      },
      "source": [
        "from keras.layers import Input, Dense, Flatten, Subtract, Dropout, Multiply\n",
        "from keras.layers import Lambda, Concatenate, GlobalMaxPool2D, GlobalAvgPool2D\n",
        "from keras.models import Model \n",
        "from keras.regularizers import l2\n",
        "from keras import backend as K\n",
        "from keras.optimizers import SGD,Adam\n",
        "from keras.losses import binary_crossentropy\n",
        "import tensorflow as tf\n",
        "from sklearn.metrics import roc_auc_score\n",
        "\n",
        "def auc(y_true, y_pred):\n",
        "    return tf.py_func(roc_auc_score, (y_true, y_pred), tf.double)\n",
        "\n",
        "left_input = Input(IMG_DIM)\n",
        "right_input = Input(IMG_DIM)\n",
        "\n",
        "x1 = vggface(left_input)\n",
        "x2 = vggface(right_input)\n",
        "\n",
        "x1 = Concatenate(axis=-1)([GlobalMaxPool2D()(x1), GlobalAvgPool2D()(x1)])\n",
        "x2 = Concatenate(axis=-1)([GlobalMaxPool2D()(x2), GlobalAvgPool2D()(x2)])\n",
        "\n",
        "fc = Dense(100,activation='relu',kernel_regularizer=l2(1e-3),\n",
        "                   kernel_initializer='RandomNormal',bias_initializer='RandomNormal')\n",
        "x1 = fc(x1)\n",
        "x2 = fc(x2)\n",
        "\n",
        "# |h1-h2|\n",
        "x3 = Lambda(lambda tensors : K.abs(tensors[0] - tensors[1]))([x1, x2])\n",
        "\n",
        "# |h1-h2|^2\n",
        "x4 = Lambda(lambda tensor  : K.square(tensor))(x3)\n",
        "\n",
        "# h1*h2\n",
        "x5 = Multiply()([x1, x2])\n",
        "\n",
        "# |h1-h2|^2 + h1*h2\n",
        "x = Concatenate(axis=-1)([x4,x5])\n",
        "\n",
        "x = Dense(100,activation='relu',kernel_regularizer=l2(1e-3),\n",
        "                   kernel_initializer='RandomNormal',bias_initializer='RandomNormal')(x)\n",
        "x = Dropout(0.1)(x)\n",
        "\n",
        "\n",
        "prediction = Dense(1,activation='sigmoid',bias_initializer='RandomNormal')(x)\n",
        "\n",
        "siamese_net = Model(inputs=[left_input,right_input],outputs=prediction)\n",
        "\n",
        "optimizer = Adam(1e-5)\n",
        "\n",
        "siamese_net.compile(loss=\"binary_crossentropy\",optimizer=optimizer,metrics=['accuracy',auc])"
      ],
      "execution_count": 0,
      "outputs": [
        {
          "output_type": "stream",
          "text": [
            "WARNING:tensorflow:From /usr/local/lib/python3.6/dist-packages/keras/optimizers.py:793: The name tf.train.Optimizer is deprecated. Please use tf.compat.v1.train.Optimizer instead.\n",
            "\n",
            "WARNING:tensorflow:From /usr/local/lib/python3.6/dist-packages/tensorflow/python/ops/nn_impl.py:180: add_dispatch_support.<locals>.wrapper (from tensorflow.python.ops.array_ops) is deprecated and will be removed in a future version.\n",
            "Instructions for updating:\n",
            "Use tf.where in 2.0, which has the same broadcast rule as np.where\n",
            "WARNING:tensorflow:From <ipython-input-33-095a8d4a8045>:12: py_func (from tensorflow.python.ops.script_ops) is deprecated and will be removed in a future version.\n",
            "Instructions for updating:\n",
            "tf.py_func is deprecated in TF V2. Instead, there are two\n",
            "    options available in V2.\n",
            "    - tf.py_function takes a python function which manipulates tf eager\n",
            "    tensors instead of numpy arrays. It's easy to convert a tf eager tensor to\n",
            "    an ndarray (just call tensor.numpy()) but having access to eager tensors\n",
            "    means `tf.py_function`s can use accelerators such as GPUs as well as\n",
            "    being differentiable using a gradient tape.\n",
            "    - tf.numpy_function maintains the semantics of the deprecated tf.py_func\n",
            "    (it is not differentiable, and manipulates numpy arrays). It drops the\n",
            "    stateful argument making all functions stateful.\n",
            "    \n"
          ],
          "name": "stdout"
        }
      ]
    },
    {
      "cell_type": "code",
      "metadata": {
        "id": "WHb87x3885rP",
        "colab_type": "code",
        "outputId": "c1aad500-d9ad-4bfb-ad6e-d67071962d31",
        "colab": {
          "base_uri": "https://localhost:8080/",
          "height": 1000
        }
      },
      "source": [
        "from keras.callbacks import ReduceLROnPlateau, ModelCheckpoint, EarlyStopping\n",
        "import threading\n",
        "\n",
        "reducelr = ReduceLROnPlateau(monitor='val_auc', mode='max',patience=6,factor=0.1,verbose=1)\n",
        "\n",
        "model_checkpoint  = ModelCheckpoint('model_best_checkpoint.h5', save_best_only=True,\n",
        "                                    save_weights_only=True, monitor='val_auc', mode='max', verbose=1)\n",
        "\n",
        "early_stopping = EarlyStopping(monitor='val_auc', patience=20, mode='max')\n",
        "\n",
        "callbacks_list = [reducelr, model_checkpoint, early_stopping]\n",
        "\n",
        "def Generator(batch_size, data ):\n",
        "  while True:\n",
        "    yield getMiniBatch(batch_size=batch_size, data=data)\n",
        "\n",
        "train_gen = Generator(batch_size=16,data=train)\n",
        "val_gen = Generator(batch_size=16,data=val)\n",
        "\n",
        "history = siamese_net.fit_generator( train_gen, samples_per_epoch=200, epochs=100, \n",
        "                          validation_data=val_gen, validation_steps=100, use_multiprocessing=True,\n",
        "                          verbose=1,callbacks=callbacks_list, workers=4)"
      ],
      "execution_count": 0,
      "outputs": [
        {
          "output_type": "stream",
          "text": [
            "/usr/local/lib/python3.6/dist-packages/ipykernel_launcher.py:22: UserWarning: Update your `fit_generator` call to the Keras 2 API: `fit_generator(<generator..., epochs=100, validation_data=<generator..., validation_steps=100, use_multiprocessing=True, verbose=1, callbacks=[<keras.ca..., workers=4, steps_per_epoch=200)`\n",
            "/usr/local/lib/python3.6/dist-packages/keras/engine/training_generator.py:49: UserWarning: Using a generator with `use_multiprocessing=True` and multiple workers may duplicate your data. Please consider using the `keras.utils.Sequence class.\n",
            "  UserWarning('Using a generator with `use_multiprocessing=True`'\n"
          ],
          "name": "stderr"
        },
        {
          "output_type": "stream",
          "text": [
            "Epoch 1/100\n",
            "200/200 [==============================] - 246s 1s/step - loss: 6.4624 - acc: 0.5300 - auc: 0.5313 - val_loss: 5.5563 - val_acc: 0.5881 - val_auc: 0.6239\n",
            "\n",
            "Epoch 00001: val_auc improved from -inf to 0.62391, saving model to model_best_checkpoint.h5\n",
            "Epoch 2/100\n",
            "200/200 [==============================] - 214s 1s/step - loss: 5.4833 - acc: 0.5463 - auc: 0.5608 - val_loss: 5.7171 - val_acc: 0.5075 - val_auc: 0.5228\n",
            "\n",
            "Epoch 00002: val_auc did not improve from 0.62391\n",
            "Epoch 3/100\n",
            "200/200 [==============================] - 213s 1s/step - loss: 4.2755 - acc: 0.5428 - auc: 0.5581 - val_loss: 4.1841 - val_acc: 0.5188 - val_auc: 0.5463\n",
            "\n",
            "Epoch 00003: val_auc did not improve from 0.62391\n",
            "Epoch 4/100\n",
            "200/200 [==============================] - 214s 1s/step - loss: 2.6660 - acc: 0.5519 - auc: 0.5761 - val_loss: 2.5406 - val_acc: 0.5281 - val_auc: 0.5206\n",
            "\n",
            "Epoch 00004: val_auc did not improve from 0.62391\n",
            "Epoch 5/100\n",
            "200/200 [==============================] - 215s 1s/step - loss: 2.0203 - acc: 0.5556 - auc: 0.5837 - val_loss: 2.1198 - val_acc: 0.5300 - val_auc: 0.5336\n",
            "\n",
            "Epoch 00005: val_auc did not improve from 0.62391\n",
            "Epoch 6/100\n",
            "200/200 [==============================] - 215s 1s/step - loss: 1.8087 - acc: 0.5891 - auc: 0.6316 - val_loss: 1.9303 - val_acc: 0.5481 - val_auc: 0.5492\n",
            "\n",
            "Epoch 00006: val_auc did not improve from 0.62391\n",
            "Epoch 7/100\n",
            "200/200 [==============================] - 214s 1s/step - loss: 1.7633 - acc: 0.5875 - auc: 0.6365 - val_loss: 1.8217 - val_acc: 0.5731 - val_auc: 0.6303\n",
            "\n",
            "Epoch 00007: val_auc improved from 0.62391 to 0.63031, saving model to model_best_checkpoint.h5\n",
            "Epoch 8/100\n",
            "200/200 [==============================] - 215s 1s/step - loss: 1.7508 - acc: 0.5959 - auc: 0.6400 - val_loss: 1.8141 - val_acc: 0.5262 - val_auc: 0.5759\n",
            "\n",
            "Epoch 00008: val_auc did not improve from 0.63031\n",
            "Epoch 9/100\n",
            "200/200 [==============================] - 214s 1s/step - loss: 1.7174 - acc: 0.6041 - auc: 0.6609 - val_loss: 1.8218 - val_acc: 0.5481 - val_auc: 0.6016\n",
            "\n",
            "Epoch 00009: val_auc did not improve from 0.63031\n",
            "Epoch 10/100\n",
            "200/200 [==============================] - 214s 1s/step - loss: 1.7141 - acc: 0.6162 - auc: 0.6701 - val_loss: 1.7941 - val_acc: 0.5575 - val_auc: 0.6214\n",
            "\n",
            "Epoch 00010: val_auc did not improve from 0.63031\n",
            "Epoch 11/100\n",
            "200/200 [==============================] - 213s 1s/step - loss: 1.7131 - acc: 0.6097 - auc: 0.6759 - val_loss: 1.7452 - val_acc: 0.5669 - val_auc: 0.6194\n",
            "\n",
            "Epoch 00011: val_auc did not improve from 0.63031\n",
            "Epoch 12/100\n",
            "200/200 [==============================] - 214s 1s/step - loss: 1.6938 - acc: 0.6331 - auc: 0.6999 - val_loss: 1.7420 - val_acc: 0.5594 - val_auc: 0.6117\n",
            "\n",
            "Epoch 00012: val_auc did not improve from 0.63031\n",
            "Epoch 13/100\n",
            "200/200 [==============================] - 214s 1s/step - loss: 1.6788 - acc: 0.6400 - auc: 0.7105 - val_loss: 1.7912 - val_acc: 0.5938 - val_auc: 0.6406\n",
            "\n",
            "Epoch 00013: val_auc improved from 0.63031 to 0.64062, saving model to model_best_checkpoint.h5\n",
            "Epoch 14/100\n",
            "200/200 [==============================] - 213s 1s/step - loss: 1.6655 - acc: 0.6462 - auc: 0.7277 - val_loss: 1.7919 - val_acc: 0.5962 - val_auc: 0.6539\n",
            "\n",
            "Epoch 00014: val_auc improved from 0.64062 to 0.65391, saving model to model_best_checkpoint.h5\n",
            "Epoch 15/100\n",
            "200/200 [==============================] - 214s 1s/step - loss: 1.6695 - acc: 0.6453 - auc: 0.7163 - val_loss: 1.8259 - val_acc: 0.5138 - val_auc: 0.5814\n",
            "\n",
            "Epoch 00015: val_auc did not improve from 0.65391\n",
            "Epoch 16/100\n",
            "200/200 [==============================] - 213s 1s/step - loss: 1.6753 - acc: 0.6444 - auc: 0.7166 - val_loss: 1.8411 - val_acc: 0.5988 - val_auc: 0.6630\n",
            "\n",
            "Epoch 00016: val_auc improved from 0.65391 to 0.66297, saving model to model_best_checkpoint.h5\n",
            "Epoch 17/100\n",
            "200/200 [==============================] - 214s 1s/step - loss: 1.6642 - acc: 0.6419 - auc: 0.7202 - val_loss: 1.8015 - val_acc: 0.5500 - val_auc: 0.6372\n",
            "\n",
            "Epoch 00017: val_auc did not improve from 0.66297\n",
            "Epoch 18/100\n",
            "200/200 [==============================] - 213s 1s/step - loss: 1.6521 - acc: 0.6681 - auc: 0.7491 - val_loss: 1.7354 - val_acc: 0.6250 - val_auc: 0.7037\n",
            "\n",
            "Epoch 00018: val_auc improved from 0.66297 to 0.70375, saving model to model_best_checkpoint.h5\n",
            "Epoch 19/100\n",
            "200/200 [==============================] - 214s 1s/step - loss: 1.6237 - acc: 0.6903 - auc: 0.7752 - val_loss: 1.8589 - val_acc: 0.5587 - val_auc: 0.6056\n",
            "\n",
            "Epoch 00019: val_auc did not improve from 0.70375\n",
            "Epoch 20/100\n",
            "200/200 [==============================] - 214s 1s/step - loss: 1.6314 - acc: 0.6809 - auc: 0.7655 - val_loss: 1.8369 - val_acc: 0.6025 - val_auc: 0.6605\n",
            "\n",
            "Epoch 00020: val_auc did not improve from 0.70375\n",
            "Epoch 21/100\n",
            "200/200 [==============================] - 215s 1s/step - loss: 1.6380 - acc: 0.6819 - auc: 0.7577 - val_loss: 1.8233 - val_acc: 0.5900 - val_auc: 0.6695\n",
            "\n",
            "Epoch 00021: val_auc did not improve from 0.70375\n",
            "Epoch 22/100\n",
            "200/200 [==============================] - 215s 1s/step - loss: 1.6320 - acc: 0.6819 - auc: 0.7695 - val_loss: 1.8002 - val_acc: 0.5694 - val_auc: 0.6305\n",
            "\n",
            "Epoch 00022: val_auc did not improve from 0.70375\n",
            "Epoch 23/100\n",
            "200/200 [==============================] - 215s 1s/step - loss: 1.6251 - acc: 0.6837 - auc: 0.7680 - val_loss: 1.8253 - val_acc: 0.5975 - val_auc: 0.6342\n",
            "\n",
            "Epoch 00023: val_auc did not improve from 0.70375\n",
            "Epoch 24/100\n",
            "200/200 [==============================] - 215s 1s/step - loss: 1.6264 - acc: 0.6756 - auc: 0.7568 - val_loss: 1.8610 - val_acc: 0.5794 - val_auc: 0.6278\n",
            "\n",
            "Epoch 00024: ReduceLROnPlateau reducing learning rate to 9.999999747378752e-07.\n",
            "\n",
            "Epoch 00024: val_auc did not improve from 0.70375\n",
            "Epoch 25/100\n",
            "200/200 [==============================] - 215s 1s/step - loss: 1.6288 - acc: 0.6825 - auc: 0.7591 - val_loss: 1.8703 - val_acc: 0.5656 - val_auc: 0.6311\n",
            "\n",
            "Epoch 00025: val_auc did not improve from 0.70375\n",
            "Epoch 26/100\n",
            "200/200 [==============================] - 215s 1s/step - loss: 1.6044 - acc: 0.7059 - auc: 0.7855 - val_loss: 1.8183 - val_acc: 0.6112 - val_auc: 0.6805\n",
            "\n",
            "Epoch 00026: val_auc did not improve from 0.70375\n",
            "Epoch 27/100\n",
            "200/200 [==============================] - 215s 1s/step - loss: 1.5908 - acc: 0.7106 - auc: 0.7956 - val_loss: 1.8679 - val_acc: 0.6200 - val_auc: 0.6881\n",
            "\n",
            "Epoch 00027: val_auc did not improve from 0.70375\n",
            "Epoch 28/100\n",
            "200/200 [==============================] - 215s 1s/step - loss: 1.5851 - acc: 0.7250 - auc: 0.8056 - val_loss: 1.8387 - val_acc: 0.6094 - val_auc: 0.6955\n",
            "\n",
            "Epoch 00028: val_auc did not improve from 0.70375\n",
            "Epoch 29/100\n",
            "200/200 [==============================] - 215s 1s/step - loss: 1.5895 - acc: 0.7312 - auc: 0.8073 - val_loss: 1.8077 - val_acc: 0.6006 - val_auc: 0.6733\n",
            "\n",
            "Epoch 00029: val_auc did not improve from 0.70375\n",
            "Epoch 30/100\n",
            "200/200 [==============================] - 215s 1s/step - loss: 1.5846 - acc: 0.7241 - auc: 0.8073 - val_loss: 1.8259 - val_acc: 0.6225 - val_auc: 0.6867\n",
            "\n",
            "Epoch 00030: ReduceLROnPlateau reducing learning rate to 9.999999974752428e-08.\n",
            "\n",
            "Epoch 00030: val_auc did not improve from 0.70375\n",
            "Epoch 31/100\n",
            "200/200 [==============================] - 215s 1s/step - loss: 1.5750 - acc: 0.7262 - auc: 0.8125 - val_loss: 1.8587 - val_acc: 0.5869 - val_auc: 0.6680\n",
            "\n",
            "Epoch 00031: val_auc did not improve from 0.70375\n",
            "Epoch 32/100\n",
            "200/200 [==============================] - 215s 1s/step - loss: 1.5731 - acc: 0.7291 - auc: 0.8106 - val_loss: 1.8310 - val_acc: 0.5731 - val_auc: 0.6361\n",
            "\n",
            "Epoch 00032: val_auc did not improve from 0.70375\n",
            "Epoch 33/100\n",
            "200/200 [==============================] - 215s 1s/step - loss: 1.5648 - acc: 0.7328 - auc: 0.8216 - val_loss: 1.8329 - val_acc: 0.6019 - val_auc: 0.6739\n",
            "\n",
            "Epoch 00033: val_auc did not improve from 0.70375\n",
            "Epoch 34/100\n",
            "200/200 [==============================] - 215s 1s/step - loss: 1.5972 - acc: 0.7056 - auc: 0.7883 - val_loss: 1.8599 - val_acc: 0.5869 - val_auc: 0.6475\n",
            "\n",
            "Epoch 00034: val_auc did not improve from 0.70375\n",
            "Epoch 35/100\n",
            "200/200 [==============================] - 215s 1s/step - loss: 1.5884 - acc: 0.7209 - auc: 0.8037 - val_loss: 1.8284 - val_acc: 0.6038 - val_auc: 0.6698\n",
            "\n",
            "Epoch 00035: val_auc did not improve from 0.70375\n",
            "Epoch 36/100\n",
            "200/200 [==============================] - 215s 1s/step - loss: 1.5711 - acc: 0.7306 - auc: 0.8182 - val_loss: 1.8414 - val_acc: 0.5981 - val_auc: 0.7030\n",
            "\n",
            "Epoch 00036: ReduceLROnPlateau reducing learning rate to 1.0000000116860975e-08.\n",
            "\n",
            "Epoch 00036: val_auc did not improve from 0.70375\n",
            "Epoch 37/100\n",
            "200/200 [==============================] - 214s 1s/step - loss: 1.5852 - acc: 0.7256 - auc: 0.8079 - val_loss: 1.8063 - val_acc: 0.6250 - val_auc: 0.7041\n",
            "\n",
            "Epoch 00037: val_auc improved from 0.70375 to 0.70406, saving model to model_best_checkpoint.h5\n",
            "Epoch 38/100\n",
            "200/200 [==============================] - 215s 1s/step - loss: 1.5574 - acc: 0.7378 - auc: 0.8252 - val_loss: 1.7726 - val_acc: 0.6325 - val_auc: 0.7309\n",
            "\n",
            "Epoch 00038: val_auc improved from 0.70406 to 0.73094, saving model to model_best_checkpoint.h5\n",
            "Epoch 39/100\n",
            "200/200 [==============================] - 214s 1s/step - loss: 1.5612 - acc: 0.7413 - auc: 0.8245 - val_loss: 1.7894 - val_acc: 0.6331 - val_auc: 0.7181\n",
            "\n",
            "Epoch 00039: val_auc did not improve from 0.73094\n",
            "Epoch 40/100\n",
            "200/200 [==============================] - 214s 1s/step - loss: 1.5668 - acc: 0.7291 - auc: 0.8184 - val_loss: 1.7504 - val_acc: 0.6350 - val_auc: 0.7219\n",
            "\n",
            "Epoch 00040: val_auc did not improve from 0.73094\n",
            "Epoch 41/100\n",
            "200/200 [==============================] - 215s 1s/step - loss: 1.5947 - acc: 0.7122 - auc: 0.7818 - val_loss: 1.7932 - val_acc: 0.6325 - val_auc: 0.7019\n",
            "\n",
            "Epoch 00041: val_auc did not improve from 0.73094\n",
            "Epoch 42/100\n",
            "200/200 [==============================] - 215s 1s/step - loss: 1.5700 - acc: 0.7319 - auc: 0.8166 - val_loss: 1.8027 - val_acc: 0.6350 - val_auc: 0.7156\n",
            "\n",
            "Epoch 00042: val_auc did not improve from 0.73094\n",
            "Epoch 43/100\n",
            "200/200 [==============================] - 215s 1s/step - loss: 1.5619 - acc: 0.7378 - auc: 0.8209 - val_loss: 1.7620 - val_acc: 0.6325 - val_auc: 0.7281\n",
            "\n",
            "Epoch 00043: val_auc did not improve from 0.73094\n",
            "Epoch 44/100\n",
            "200/200 [==============================] - 215s 1s/step - loss: 1.5890 - acc: 0.7163 - auc: 0.7969 - val_loss: 1.8041 - val_acc: 0.6256 - val_auc: 0.7039\n",
            "\n",
            "Epoch 00044: ReduceLROnPlateau reducing learning rate to 9.999999939225292e-10.\n",
            "\n",
            "Epoch 00044: val_auc did not improve from 0.73094\n",
            "Epoch 45/100\n",
            "200/200 [==============================] - 214s 1s/step - loss: 1.5828 - acc: 0.7281 - auc: 0.8080 - val_loss: 1.7600 - val_acc: 0.6362 - val_auc: 0.7198\n",
            "\n",
            "Epoch 00045: val_auc did not improve from 0.73094\n",
            "Epoch 46/100\n",
            "200/200 [==============================] - 215s 1s/step - loss: 1.5610 - acc: 0.7316 - auc: 0.8188 - val_loss: 1.7576 - val_acc: 0.6394 - val_auc: 0.7403\n",
            "\n",
            "Epoch 00046: val_auc improved from 0.73094 to 0.74031, saving model to model_best_checkpoint.h5\n",
            "Epoch 47/100\n",
            "200/200 [==============================] - 214s 1s/step - loss: 1.5870 - acc: 0.7188 - auc: 0.8002 - val_loss: 1.7801 - val_acc: 0.6406 - val_auc: 0.7211\n",
            "\n",
            "Epoch 00047: val_auc did not improve from 0.74031\n",
            "Epoch 48/100\n",
            "200/200 [==============================] - 215s 1s/step - loss: 1.5606 - acc: 0.7309 - auc: 0.8237 - val_loss: 1.7579 - val_acc: 0.6325 - val_auc: 0.7439\n",
            "\n",
            "Epoch 00048: val_auc improved from 0.74031 to 0.74391, saving model to model_best_checkpoint.h5\n",
            "Epoch 49/100\n",
            "200/200 [==============================] - 215s 1s/step - loss: 1.5770 - acc: 0.7194 - auc: 0.8045 - val_loss: 1.8041 - val_acc: 0.5962 - val_auc: 0.6686\n",
            "\n",
            "Epoch 00049: val_auc did not improve from 0.74391\n",
            "Epoch 50/100\n",
            "200/200 [==============================] - 215s 1s/step - loss: 1.5737 - acc: 0.7250 - auc: 0.8152 - val_loss: 1.8332 - val_acc: 0.5962 - val_auc: 0.6925\n",
            "\n",
            "Epoch 00050: val_auc did not improve from 0.74391\n",
            "Epoch 51/100\n",
            "200/200 [==============================] - 215s 1s/step - loss: 1.5781 - acc: 0.7091 - auc: 0.8023 - val_loss: 1.7815 - val_acc: 0.6200 - val_auc: 0.7005\n",
            "\n",
            "Epoch 00051: val_auc did not improve from 0.74391\n",
            "Epoch 52/100\n",
            "200/200 [==============================] - 215s 1s/step - loss: 1.5612 - acc: 0.7356 - auc: 0.8163 - val_loss: 1.8078 - val_acc: 0.6069 - val_auc: 0.6830\n",
            "\n",
            "Epoch 00052: val_auc did not improve from 0.74391\n",
            "Epoch 53/100\n",
            "200/200 [==============================] - 214s 1s/step - loss: 1.5939 - acc: 0.7056 - auc: 0.7901 - val_loss: 1.8134 - val_acc: 0.6138 - val_auc: 0.6811\n",
            "\n",
            "Epoch 00053: val_auc did not improve from 0.74391\n",
            "Epoch 54/100\n",
            "200/200 [==============================] - 215s 1s/step - loss: 1.5580 - acc: 0.7381 - auc: 0.8273 - val_loss: 1.8078 - val_acc: 0.6200 - val_auc: 0.7066\n",
            "\n",
            "Epoch 00054: ReduceLROnPlateau reducing learning rate to 9.999999717180686e-11.\n",
            "\n",
            "Epoch 00054: val_auc did not improve from 0.74391\n",
            "Epoch 55/100\n",
            "200/200 [==============================] - 214s 1s/step - loss: 1.5789 - acc: 0.7256 - auc: 0.8067 - val_loss: 1.8265 - val_acc: 0.5975 - val_auc: 0.6959\n",
            "\n",
            "Epoch 00055: val_auc did not improve from 0.74391\n",
            "Epoch 56/100\n",
            "200/200 [==============================] - 215s 1s/step - loss: 1.5654 - acc: 0.7269 - auc: 0.8177 - val_loss: 1.8073 - val_acc: 0.6131 - val_auc: 0.7084\n",
            "\n",
            "Epoch 00056: val_auc did not improve from 0.74391\n",
            "Epoch 57/100\n",
            "200/200 [==============================] - 215s 1s/step - loss: 1.5621 - acc: 0.7447 - auc: 0.8234 - val_loss: 1.7722 - val_acc: 0.6138 - val_auc: 0.6942\n",
            "\n",
            "Epoch 00057: val_auc did not improve from 0.74391\n",
            "Epoch 58/100\n",
            "200/200 [==============================] - 214s 1s/step - loss: 1.5893 - acc: 0.7134 - auc: 0.7924 - val_loss: 1.7629 - val_acc: 0.6281 - val_auc: 0.7069\n",
            "\n",
            "Epoch 00058: val_auc did not improve from 0.74391\n",
            "Epoch 59/100\n",
            "200/200 [==============================] - 215s 1s/step - loss: 1.5849 - acc: 0.7159 - auc: 0.7973 - val_loss: 1.8395 - val_acc: 0.6194 - val_auc: 0.6756\n",
            "\n",
            "Epoch 00059: val_auc did not improve from 0.74391\n",
            "Epoch 60/100\n",
            "200/200 [==============================] - 214s 1s/step - loss: 1.5702 - acc: 0.7291 - auc: 0.8110 - val_loss: 1.7817 - val_acc: 0.6356 - val_auc: 0.7125\n",
            "\n",
            "Epoch 00060: ReduceLROnPlateau reducing learning rate to 9.99999943962493e-12.\n",
            "\n",
            "Epoch 00060: val_auc did not improve from 0.74391\n",
            "Epoch 61/100\n",
            "200/200 [==============================] - 215s 1s/step - loss: 1.5769 - acc: 0.7241 - auc: 0.8095 - val_loss: 1.8367 - val_acc: 0.5981 - val_auc: 0.6755\n",
            "\n",
            "Epoch 00061: val_auc did not improve from 0.74391\n",
            "Epoch 62/100\n",
            "200/200 [==============================] - 213s 1s/step - loss: 1.5699 - acc: 0.7294 - auc: 0.8159 - val_loss: 1.7850 - val_acc: 0.6250 - val_auc: 0.7091\n",
            "\n",
            "Epoch 00062: val_auc did not improve from 0.74391\n",
            "Epoch 63/100\n",
            "200/200 [==============================] - 214s 1s/step - loss: 1.5657 - acc: 0.7275 - auc: 0.8169 - val_loss: 1.8276 - val_acc: 0.6062 - val_auc: 0.6834\n",
            "\n",
            "Epoch 00063: val_auc did not improve from 0.74391\n",
            "Epoch 64/100\n",
            "200/200 [==============================] - 215s 1s/step - loss: 1.5638 - acc: 0.7350 - auc: 0.8201 - val_loss: 1.8175 - val_acc: 0.6200 - val_auc: 0.6941\n",
            "\n",
            "Epoch 00064: val_auc did not improve from 0.74391\n",
            "Epoch 65/100\n",
            "200/200 [==============================] - 215s 1s/step - loss: 1.5837 - acc: 0.7225 - auc: 0.8047 - val_loss: 1.7828 - val_acc: 0.6481 - val_auc: 0.7275\n",
            "\n",
            "Epoch 00065: val_auc did not improve from 0.74391\n",
            "Epoch 66/100\n",
            "200/200 [==============================] - 215s 1s/step - loss: 1.5721 - acc: 0.7316 - auc: 0.8148 - val_loss: 1.8050 - val_acc: 0.6325 - val_auc: 0.6984\n",
            "\n",
            "Epoch 00066: ReduceLROnPlateau reducing learning rate to 9.999999092680235e-13.\n",
            "\n",
            "Epoch 00066: val_auc did not improve from 0.74391\n",
            "Epoch 67/100\n",
            "200/200 [==============================] - 215s 1s/step - loss: 1.5925 - acc: 0.7125 - auc: 0.7947 - val_loss: 1.8602 - val_acc: 0.5687 - val_auc: 0.6334\n",
            "\n",
            "Epoch 00067: val_auc did not improve from 0.74391\n",
            "Epoch 68/100\n",
            "200/200 [==============================] - 215s 1s/step - loss: 1.5786 - acc: 0.7181 - auc: 0.8030 - val_loss: 1.7880 - val_acc: 0.6138 - val_auc: 0.7036\n",
            "\n",
            "Epoch 00068: val_auc did not improve from 0.74391\n"
          ],
          "name": "stdout"
        }
      ]
    },
    {
      "cell_type": "code",
      "metadata": {
        "id": "Lnw0T4M2_8ml",
        "colab_type": "code",
        "outputId": "803744c0-3c65-4b4a-b7f7-ef86b061fc6e",
        "colab": {
          "base_uri": "https://localhost:8080/",
          "height": 308
        }
      },
      "source": [
        "f, (ax1, ax2, ax3) = plt.subplots(1, 3, figsize=(16, 4))\n",
        "t = f.suptitle('Siamese Net Performance', fontsize=12)\n",
        "f.subplots_adjust(top=0.85, wspace=0.3)\n",
        "epoch_list = history.epoch\n",
        "\n",
        "ax1.plot(epoch_list, history.history['acc'], label='Train Accuracy')\n",
        "ax1.plot(epoch_list, history.history['val_acc'], label='Validation Accuracy')\n",
        "ax1.set_xticks(np.arange(0, epoch_list[-1], 5))\n",
        "ax1.set_ylabel('Accuracy Value');ax1.set_xlabel('Epoch');ax1.set_title('Accuracy')\n",
        "ax1.legend(loc=\"best\");ax1.grid(color='gray', linestyle='-', linewidth=0.5)\n",
        "\n",
        "ax2.plot(epoch_list, history.history['loss'], label='Train Loss')\n",
        "ax2.plot(epoch_list, history.history['val_loss'], label='Validation Loss')\n",
        "ax2.set_xticks(np.arange(0, epoch_list[-1], 5))\n",
        "ax2.set_ylabel('Loss Value');ax2.set_xlabel('Epoch');ax2.set_title('Loss')\n",
        "ax2.legend(loc=\"best\");ax2.grid(color='gray', linestyle='-', linewidth=0.5)\n",
        "\n",
        "ax3.plot(epoch_list, history.history['auc'], label='Train AUC')\n",
        "ax3.plot(epoch_list, history.history['val_auc'], label='Validation AUC')\n",
        "ax3.set_xticks(np.arange(0, epoch_list[-1], 5))\n",
        "ax3.set_ylabel('AUC');ax3.set_xlabel('Epoch');ax3.set_title('AUC')\n",
        "ax3.legend(loc=\"best\");ax3.grid(color='gray', linestyle='-', linewidth=0.5)"
      ],
      "execution_count": 0,
      "outputs": [
        {
          "output_type": "display_data",
          "data": {
            "image/png": "[encoded data removed]",
            "text/plain": [
              "<Figure size 1152x288 with 3 Axes>"
            ]
          },
          "metadata": {
            "tags": []
          }
        }
      ]
    },
    {
      "cell_type": "code",
      "metadata": {
        "id": "o22YGorhBA_6",
        "colab_type": "code",
        "colab": {}
      },
      "source": [
        "siamese_net.load_weights('model_best_checkpoint.h5')"
      ],
      "execution_count": 0,
      "outputs": []
    },
    {
      "cell_type": "code",
      "metadata": {
        "id": "x_16w37QBIJq",
        "colab_type": "code",
        "outputId": "0e8ab899-06ce-4856-cad7-0b5717ab4b03",
        "colab": {
          "base_uri": "https://localhost:8080/"
        }
      },
      "source": [
        "submission = pd.read_csv('sample_submission.csv')\n",
        "submission['p1'] = submission.img_pair.apply( lambda x: 'test/'+x.split('-')[0] )\n",
        "submission['p2'] = submission.img_pair.apply( lambda x: 'test/'+x.split('-')[1] )\n",
        "print(submission.shape)\n",
        "submission.head()"
      ],
      "execution_count": 0,
      "outputs": [
        {
          "output_type": "stream",
          "text": [
            "(5310, 4)\n"
          ],
          "name": "stdout"
        },
        {
          "output_type": "execute_result",
          "data": {
            "text/html": [
              "<div>\n",
              "<style scoped>\n",
              "    .dataframe tbody tr th:only-of-type {\n",
              "        vertical-align: middle;\n",
              "    }\n",
              "\n",
              "    .dataframe tbody tr th {\n",
              "        vertical-align: top;\n",
              "    }\n",
              "\n",
              "    .dataframe thead th {\n",
              "        text-align: right;\n",
              "    }\n",
              "</style>\n",
              "<table border=\"1\" class=\"dataframe\">\n",
              "  <thead>\n",
              "    <tr style=\"text-align: right;\">\n",
              "      <th></th>\n",
              "      <th>img_pair</th>\n",
              "      <th>is_related</th>\n",
              "      <th>p1</th>\n",
              "      <th>p2</th>\n",
              "    </tr>\n",
              "  </thead>\n",
              "  <tbody>\n",
              "    <tr>\n",
              "      <th>0</th>\n",
              "      <td>face05508.jpg-face01210.jpg</td>\n",
              "      <td>0</td>\n",
              "      <td>test/face05508.jpg</td>\n",
              "      <td>test/face01210.jpg</td>\n",
              "    </tr>\n",
              "    <tr>\n",
              "      <th>1</th>\n",
              "      <td>face05750.jpg-face00898.jpg</td>\n",
              "      <td>0</td>\n",
              "      <td>test/face05750.jpg</td>\n",
              "      <td>test/face00898.jpg</td>\n",
              "    </tr>\n",
              "    <tr>\n",
              "      <th>2</th>\n",
              "      <td>face05820.jpg-face03938.jpg</td>\n",
              "      <td>0</td>\n",
              "      <td>test/face05820.jpg</td>\n",
              "      <td>test/face03938.jpg</td>\n",
              "    </tr>\n",
              "    <tr>\n",
              "      <th>3</th>\n",
              "      <td>face02104.jpg-face01172.jpg</td>\n",
              "      <td>0</td>\n",
              "      <td>test/face02104.jpg</td>\n",
              "      <td>test/face01172.jpg</td>\n",
              "    </tr>\n",
              "    <tr>\n",
              "      <th>4</th>\n",
              "      <td>face02428.jpg-face05611.jpg</td>\n",
              "      <td>0</td>\n",
              "      <td>test/face02428.jpg</td>\n",
              "      <td>test/face05611.jpg</td>\n",
              "    </tr>\n",
              "  </tbody>\n",
              "</table>\n",
              "</div>"
            ],
            "text/plain": [
              "                      img_pair  ...                  p2\n",
              "0  face05508.jpg-face01210.jpg  ...  test/face01210.jpg\n",
              "1  face05750.jpg-face00898.jpg  ...  test/face00898.jpg\n",
              "2  face05820.jpg-face03938.jpg  ...  test/face03938.jpg\n",
              "3  face02104.jpg-face01172.jpg  ...  test/face01172.jpg\n",
              "4  face02428.jpg-face05611.jpg  ...  test/face05611.jpg\n",
              "\n",
              "[5 rows x 4 columns]"
            ]
          },
          "metadata": {
            "tags": []
          },
          "execution_count": 37
        }
      ]
    },
    {
      "cell_type": "code",
      "metadata": {
        "id": "J3-Lo0yjBJ6Y",
        "colab_type": "code",
        "outputId": "433e23db-e877-4e61-bbdd-3faaeebce4b7",
        "colab": {
          "base_uri": "https://localhost:8080/",
          "height": 34
        }
      },
      "source": [
        "from tqdm import tqdm\n",
        "\n",
        "probs = []\n",
        "for i,j in tqdm([ (0,500),(500,1000),(1000,1500),(1500,2000),(2000,2500),\n",
        "                 (2500,3000),(3000,3500),(3500,4000),(4000,4500),(4500,5000),(5000,5310) ]):\n",
        "  imgs1 = np.array( [ read_img(photo) for photo in submission.p1.values[i:j] ] )\n",
        "  imgs2 = np.array( [ read_img(photo) for photo in submission.p2.values[i:j] ] )\n",
        "  prob =  siamese_net.predict( [ imgs1, imgs2 ] )\n",
        "  probs.append(np.squeeze(prob))\n",
        "  del imgs1,imgs2; gc.collect()"
      ],
      "execution_count": 0,
      "outputs": [
        {
          "output_type": "stream",
          "text": [
            "100%|██████████| 11/11 [02:09<00:00, 10.79s/it]\n"
          ],
          "name": "stderr"
        }
      ]
    },
    {
      "cell_type": "code",
      "metadata": {
        "id": "mOTGLIT2BMUA",
        "colab_type": "code",
        "outputId": "264d2f5d-1c08-4055-cc34-e1946d7af323",
        "colab": {
          "base_uri": "https://localhost:8080/"
        }
      },
      "source": [
        "submission.is_related = np.concatenate(probs)\n",
        "submission.drop( ['p1','p2'],axis=1,inplace=True )\n",
        "submission.head()"
      ],
      "execution_count": 0,
      "outputs": [
        {
          "output_type": "execute_result",
          "data": {
            "text/html": [
              "<div>\n",
              "<style scoped>\n",
              "    .dataframe tbody tr th:only-of-type {\n",
              "        vertical-align: middle;\n",
              "    }\n",
              "\n",
              "    .dataframe tbody tr th {\n",
              "        vertical-align: top;\n",
              "    }\n",
              "\n",
              "    .dataframe thead th {\n",
              "        text-align: right;\n",
              "    }\n",
              "</style>\n",
              "<table border=\"1\" class=\"dataframe\">\n",
              "  <thead>\n",
              "    <tr style=\"text-align: right;\">\n",
              "      <th></th>\n",
              "      <th>img_pair</th>\n",
              "      <th>is_related</th>\n",
              "    </tr>\n",
              "  </thead>\n",
              "  <tbody>\n",
              "    <tr>\n",
              "      <th>0</th>\n",
              "      <td>face05508.jpg-face01210.jpg</td>\n",
              "      <td>0.173061</td>\n",
              "    </tr>\n",
              "    <tr>\n",
              "      <th>1</th>\n",
              "      <td>face05750.jpg-face00898.jpg</td>\n",
              "      <td>0.798456</td>\n",
              "    </tr>\n",
              "    <tr>\n",
              "      <th>2</th>\n",
              "      <td>face05820.jpg-face03938.jpg</td>\n",
              "      <td>0.558682</td>\n",
              "    </tr>\n",
              "    <tr>\n",
              "      <th>3</th>\n",
              "      <td>face02104.jpg-face01172.jpg</td>\n",
              "      <td>0.641116</td>\n",
              "    </tr>\n",
              "    <tr>\n",
              "      <th>4</th>\n",
              "      <td>face02428.jpg-face05611.jpg</td>\n",
              "      <td>0.453122</td>\n",
              "    </tr>\n",
              "  </tbody>\n",
              "</table>\n",
              "</div>"
            ],
            "text/plain": [
              "                      img_pair  is_related\n",
              "0  face05508.jpg-face01210.jpg    0.173061\n",
              "1  face05750.jpg-face00898.jpg    0.798456\n",
              "2  face05820.jpg-face03938.jpg    0.558682\n",
              "3  face02104.jpg-face01172.jpg    0.641116\n",
              "4  face02428.jpg-face05611.jpg    0.453122"
            ]
          },
          "metadata": {
            "tags": []
          },
          "execution_count": 39
        }
      ]
    },
    {
      "cell_type": "code",
      "metadata": {
        "id": "o4rMnyguBOJd",
        "colab_type": "code",
        "colab": {}
      },
      "source": [
        "submission.to_csv('submission.csv',index=False)"
      ],
      "execution_count": 0,
      "outputs": []
    },
    {
      "cell_type": "code",
      "metadata": {
        "id": "330xO3vJBQs2",
        "colab_type": "code",
        "colab": {}
      },
      "source": [
        ""
      ],
      "execution_count": 0,
      "outputs": []
    }
  ]
}